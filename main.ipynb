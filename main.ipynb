{
 "cells": [
  {
   "cell_type": "markdown",
   "metadata": {},
   "source": [
    "Imports"
   ]
  },
  {
   "cell_type": "code",
   "execution_count": null,
   "metadata": {},
   "outputs": [],
   "source": [
    "import pandas as pd\n",
    "import matplotlib.pyplot as plt\n",
    "from sklearn.model_selection import train_test_split\n",
    "from sklearn.tree import DecisionTreeClassifier\n",
    "from sklearn.metrics import classification_report, confusion_matrix, accuracy_score\n",
    "from sklearn.neighbors import KNeighborsClassifier\n",
    "from sklearn.svm import SVC\n",
    "import tkinter as tk\n",
    "from tkinter import messagebox\n",
    "import numpy as np\n",
    "\n",
    "\n",
    "df = pd.read_csv(\"BitcoinHeistData.csv\")"
   ]
  },
  {
   "cell_type": "markdown",
   "metadata": {},
   "source": [
    "Pré-processamento e tratamento dos dados"
   ]
  },
  {
   "cell_type": "code",
   "execution_count": null,
   "metadata": {},
   "outputs": [],
   "source": [
    "tamanho_df = df.shape\n",
    "print(f\"O dataframe tem o seguinte tamanho {tamanho_df}\")\n",
    "print(df.head(5))\n",
    "\n",
    "#Nulos\n",
    "null_values = df.isnull().sum()\n",
    "print(\"Numero de nulos em cada coluna:\\n \", null_values)\n",
    "\n",
    "#Duplicados\n",
    "duplicates = df.duplicated().sum()\n",
    "print(\"Numero de duplicados em cada coluna:\\n \", duplicates)\n"
   ]
  },
  {
   "cell_type": "code",
   "execution_count": null,
   "metadata": {},
   "outputs": [],
   "source": [
    "valores_unicos = df['label'].unique()\n",
    "print(valores_unicos)\n",
    "\n",
    "df.replace({'label':{'montrealWannaCry':0, 'montrealDMALockerv3':0,\n",
    " 'montrealCryptoTorLocker2015':0, 'montrealSamSam':0, 'montrealFlyper':0,\n",
    " 'montrealNoobCrypt':0, 'montrealDMALocker':0, 'montrealGlobe':0, 'montrealEDA2':0,\n",
    " 'paduaKeRanger':0, 'montrealVenusLocker':0, 'montrealXTPLocker':0, 'paduaJigsaw':0,\n",
    " 'montrealGlobev3':0, 'montrealJigSaw':0, 'montrealXLockerv5.0':0,\n",
    " 'montrealXLocker':0, 'montrealRazy':0, 'montrealCryptConsole':0,\n",
    " 'montrealGlobeImposter':0, 'montrealSam':0, 'montrealComradeCircle':0,\n",
    " 'montrealAPT':0, 'white':1, 'pr':0, 'princetonLockyincetonCerber':0, 'princetonCerber':0,\n",
    " 'princetonLocky':0, 'montrealCryptoLocker':0, 'montrealCryptXXX':0, 'paduaCryptoWall':0}},inplace=True)\n",
    "\n",
    "'''for i in range(len(df)):\n",
    "\n",
    "    if df.loc[i, 'label'] != 'white':\n",
    "        df.loc[i, 'label'] = 1\n",
    "        print(df.loc[i, 'label'])\n",
    "    else:\n",
    "        df.loc[i, 'label'] = 0'''\n"
   ]
  },
  {
   "cell_type": "markdown",
   "metadata": {},
   "source": [
    "Separação dos conjuntos de treino e teste"
   ]
  },
  {
   "cell_type": "code",
   "execution_count": null,
   "metadata": {},
   "outputs": [],
   "source": [
    "df.drop('address', axis=1, inplace=True)\n",
    "\n",
    "X = df.drop('label', axis=1)\n",
    "y = df['label']\n",
    "\n",
    "X_train, X_test, y_train, y_test = train_test_split(X, y, test_size=0.30)"
   ]
  },
  {
   "cell_type": "markdown",
   "metadata": {},
   "source": [
    "Aplicação dos algoritmos"
   ]
  },
  {
   "cell_type": "code",
   "execution_count": null,
   "metadata": {},
   "outputs": [],
   "source": [
    "knn = KNeighborsClassifier(n_neighbors=7)\n",
    "\n",
    "#Treino dos algoritmos\n",
    "knn.fit(X_train, y_train)\n",
    "\n",
    "#Testar algoritmos\n",
    "knn_y_pred = knn.predict(X_test)\n"
   ]
  },
  {
   "cell_type": "markdown",
   "metadata": {},
   "source": [
    "Avaliação dos algoritmos"
   ]
  },
  {
   "cell_type": "code",
   "execution_count": null,
   "metadata": {},
   "outputs": [],
   "source": [
    "#KNN\n",
    "print(confusion_matrix(y_test, knn_y_pred))\n",
    "print(classification_report(y_test, knn_y_pred))\n"
   ]
  },
  {
   "cell_type": "markdown",
   "metadata": {},
   "source": [
    "Interface gráfica"
   ]
  },
  {
   "cell_type": "code",
   "execution_count": null,
   "metadata": {},
   "outputs": [],
   "source": [
    "def fazer_previsao(): \n",
    "\n",
    "    inputs = np.array([[float(Year.get()), float(Day.get()),\n",
    "                            float(Length.get()), float(Weight.get()), float(Count.get()),\n",
    "                            float(Looped.get()), float(Neighbors.get()), float(Income.get())]])\n",
    "      \n",
    "    y_pred_lin = knn.predict(inputs)\n",
    "    print(y_pred_lin)\n",
    "\n",
    "    #messagebox.showinfo(\"Previsão\", f\"Previsão  : ${y_pred_lin}\")\n",
    "\n",
    "    if(y_pred_lin == 1):\n",
    "        messagebox.showinfo(\"Previsão\", \"The transaction is pure!\")\n",
    "    else:\n",
    "        messagebox.showinfo(\"Previsão\", \"The transaction is not pure!\")\n",
    "    \n",
    "    \n",
    "\n",
    "########### Interface gráfica  ###########\n",
    "\n",
    "root = tk.Tk()\n",
    "root.title(\"Bitcoin Transfer Classification\")\n",
    "\n",
    "tk.Label(root, text=\"Year\").grid(row=1, column=0)\n",
    "Year = tk.Entry(root)\n",
    "Year.grid(row=1, column=1)\n",
    "\n",
    "tk.Label(root, text=\"Day\").grid(row=2, column=0)\n",
    "Day = tk.Entry(root)\n",
    "Day.grid(row=2, column=1)\n",
    "\n",
    "tk.Label(root, text=\"Length\").grid(row=3, column=0)\n",
    "Length = tk.Entry(root)\n",
    "Length.grid(row=3, column=1)\n",
    "\n",
    "tk.Label(root, text=\"Weight\").grid(row=4, column=0)\n",
    "Weight = tk.Entry(root)\n",
    "Weight.grid(row=4, column=1)\n",
    "\n",
    "tk.Label(root, text=\"Count\").grid(row=5, column=0)\n",
    "Count = tk.Entry(root)\n",
    "Count.grid(row=5, column=1)\n",
    "\n",
    "tk.Label(root, text=\"Looped\").grid(row=6, column=0)\n",
    "Looped = tk.Entry(root)\n",
    "Looped.grid(row=6, column=1)\n",
    "\n",
    "tk.Label(root, text=\"Neighbors\").grid(row=7, column=0)\n",
    "Neighbors = tk.Entry(root)\n",
    "Neighbors.grid(row=7, column=1)\n",
    "\n",
    "tk.Label(root, text=\"Income\").grid(row=8, column=0)\n",
    "Income = tk.Entry(root)\n",
    "Income.grid(row=8, column=1)\n",
    "\n",
    "# Botão para previsões\n",
    "predict_button = tk.Button(root, text=\"Predict\", command=fazer_previsao)\n",
    "predict_button.grid(row=9, columnspan=2)\n",
    "\n",
    "root.mainloop()"
   ]
  }
 ],
 "metadata": {
  "kernelspec": {
   "display_name": "Python 3",
   "language": "python",
   "name": "python3"
  },
  "language_info": {
   "codemirror_mode": {
    "name": "ipython",
    "version": 3
   },
   "file_extension": ".py",
   "mimetype": "text/x-python",
   "name": "python",
   "nbconvert_exporter": "python",
   "pygments_lexer": "ipython3",
   "version": "3.12.4"
  }
 },
 "nbformat": 4,
 "nbformat_minor": 2
}
